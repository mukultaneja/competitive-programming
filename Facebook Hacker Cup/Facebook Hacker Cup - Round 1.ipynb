{
 "cells": [
  {
   "cell_type": "code",
   "execution_count": null,
   "metadata": {
    "collapsed": false
   },
   "outputs": [],
   "source": [
    "## Pie Progress\n",
    "\n",
    "import pandas as pd\n",
    "\n",
    "def main():\n",
    "    T = int(raw_input())\n",
    "    test_case_count = 0\n",
    "    while test_case_count < T:\n",
    "        N, M = [int(i) for i in raw_input().split(' ')]\n",
    "        day_count = 0\n",
    "        data = pd.DataFrame()\n",
    "        while day_count < N:\n",
    "            costs = [int(i) for i in raw_input().split(' ')]\n",
    "            costs.sort()\n",
    "            s = pd.Series(costs)\n",
    "            data = data.append(s, ignore_index=True)\n",
    "            day_count += 1\n",
    "\n",
    "        data = data.applymap(lambda x: int(x))\n",
    "        for row in range(len(data)):\n",
    "            print data.loc[row]\n",
    "        test_case_count += 1\n",
    "\n",
    "main()"
   ]
  },
  {
   "cell_type": "code",
   "execution_count": 1,
   "metadata": {
    "collapsed": false
   },
   "outputs": [
    {
     "name": "stdout",
     "output_type": "stream",
     "text": [
      "1\n",
      "3 2 3\n",
      "1 2 4\n",
      "2 3 7\n",
      "{1: {'path': [2], 'gas': 4}, 2: {'path': [1, 3], 'gas': 4}, 3: {'path': [2], 'gas': 7}}\n"
     ]
    }
   ],
   "source": [
    "## Manic Moving\n",
    "\n",
    "def main():\n",
    "    T = int(raw_input())\n",
    "    test_case_count = 0\n",
    "    while test_case_count < T:\n",
    "        N, M, K = [int(i) for i in raw_input().split(' ')]\n",
    "        st = []*M\n",
    "        en = []*M\n",
    "        g = []*M\n",
    "        road_count = 0\n",
    "        paths = {}\n",
    "        while road_count < M:\n",
    "            A, B, G = [int(i) for i in raw_input().split( )]\n",
    "            if paths.get(A) == None:\n",
    "                paths[A] = { 'path' : [B, ], 'gas' : G }\n",
    "            else:\n",
    "                paths[A]['path'].append(B)\n",
    "\n",
    "            if paths.get(B) == None:\n",
    "                paths[B] = { 'path' : [A, ], 'gas' : G }\n",
    "            else:\n",
    "                paths[B]['path'].append(A)\n",
    "            road_count += 1\n",
    "        print paths\n",
    "        test_case_count += 1\n",
    "\n",
    "main()"
   ]
  },
  {
   "cell_type": "code",
   "execution_count": null,
   "metadata": {
    "collapsed": true
   },
   "outputs": [],
   "source": []
  }
 ],
 "metadata": {
  "kernelspec": {
   "display_name": "Python 2",
   "language": "python",
   "name": "python2"
  },
  "language_info": {
   "codemirror_mode": {
    "name": "ipython",
    "version": 2
   },
   "file_extension": ".py",
   "mimetype": "text/x-python",
   "name": "python",
   "nbconvert_exporter": "python",
   "pygments_lexer": "ipython2",
   "version": "2.7.12"
  }
 },
 "nbformat": 4,
 "nbformat_minor": 0
}
