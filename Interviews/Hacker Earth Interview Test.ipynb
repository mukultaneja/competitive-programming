{
 "cells": [
  {
   "cell_type": "code",
   "execution_count": 5,
   "metadata": {
    "collapsed": false
   },
   "outputs": [
    {
     "name": "stdout",
     "output_type": "stream",
     "text": [
      "2\n",
      "3 15\n",
      "1\n",
      "2\n",
      "Fizz\n",
      "1\n",
      "2\n",
      "Fizz\n",
      "4\n",
      "Buzz\n",
      "Fizz\n",
      "7\n",
      "8\n",
      "Fizz\n",
      "Buzz\n",
      "11\n",
      "Fizz\n",
      "13\n",
      "14\n",
      "FizzBuzz\n"
     ]
    }
   ],
   "source": [
    "## FizzBuzz\n",
    "\n",
    "\n",
    "def main():\n",
    "    T = int(raw_input())\n",
    "    if 1 <= T <= 10:\n",
    "        N = [int(i) for i in raw_input().split(' ')]\n",
    "        for num in N:\n",
    "            for i in range(1, num + 1):\n",
    "                if i % 3 == 0 and i % 5 == 0:\n",
    "                    print 'FizzBuzz'\n",
    "                elif i % 3 == 0:\n",
    "                    print 'Fizz'\n",
    "                elif i % 5 == 0:\n",
    "                    print 'Buzz'\n",
    "                else:\n",
    "                    print i\n",
    "\n",
    "main()\n",
    "        "
   ]
  },
  {
   "cell_type": "code",
   "execution_count": null,
   "metadata": {
    "collapsed": false
   },
   "outputs": [],
   "source": []
  },
  {
   "cell_type": "code",
   "execution_count": null,
   "metadata": {
    "collapsed": true
   },
   "outputs": [],
   "source": []
  }
 ],
 "metadata": {
  "kernelspec": {
   "display_name": "Python 2",
   "language": "python",
   "name": "python2"
  },
  "language_info": {
   "codemirror_mode": {
    "name": "ipython",
    "version": 2
   },
   "file_extension": ".py",
   "mimetype": "text/x-python",
   "name": "python",
   "nbconvert_exporter": "python",
   "pygments_lexer": "ipython2",
   "version": "2.7.12"
  }
 },
 "nbformat": 4,
 "nbformat_minor": 0
}
