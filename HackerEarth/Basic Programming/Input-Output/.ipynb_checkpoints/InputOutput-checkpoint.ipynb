{
 "cells": [
  {
   "cell_type": "code",
   "execution_count": 6,
   "metadata": {
    "collapsed": false
   },
   "outputs": [
    {
     "name": "stdout",
     "output_type": "stream",
     "text": [
      "abcdE\n"
     ]
    },
    {
     "data": {
      "text/plain": [
       "'ABCDe'"
      ]
     },
     "execution_count": 6,
     "metadata": {},
     "output_type": "execute_result"
    }
   ],
   "source": [
    "## TOggle String Problem\n",
    "## Accepted :)\n",
    "\n",
    "def toggle_string():\n",
    "    S = raw_input()\n",
    "    new_string = ''\n",
    "    if 1 <= len(S) <= 100:\n",
    "        for char in S:\n",
    "            if ord(char) >= 97:\n",
    "                new_string += char.upper()\n",
    "            else:\n",
    "                new_string += char.lower()\n",
    "    return new_string\n",
    "\n",
    "toggle_string()"
   ]
  },
  {
   "cell_type": "code",
   "execution_count": 11,
   "metadata": {
    "collapsed": false
   },
   "outputs": [
    {
     "name": "stdout",
     "output_type": "stream",
     "text": [
      "aba\n",
      "YES\n"
     ]
    }
   ],
   "source": [
    "## Palindrome String\n",
    "## Accepted :)\n",
    "\n",
    "def find_palindrome():\n",
    "    S = raw_input()\n",
    "    if 1 <= len(S) <= 100:\n",
    "        if S == S[::-1]:\n",
    "            return 'YES'\n",
    "        return 'NO'\n",
    "\n",
    "response = find_palindrome()\n",
    "print response"
   ]
  },
  {
   "cell_type": "code",
   "execution_count": 15,
   "metadata": {
    "collapsed": false
   },
   "outputs": [
    {
     "name": "stdout",
     "output_type": "stream",
     "text": [
      "5\n",
      "1 2 3 4 5\n",
      "120\n"
     ]
    }
   ],
   "source": [
    "## Find Product\n",
    "## Accepted :)\n",
    "\n",
    "def find_product():\n",
    "    N = int(raw_input())\n",
    "    if 1 <= N <= 1000:\n",
    "        array = [int(i) for i in raw_input().split(' ') if 1 <= int(i) <= 1000]\n",
    "        product = reduce(lambda x, y: x*y, array)\n",
    "        return product % ((10**9) + 7)\n",
    "        \n",
    "\n",
    "response = find_product()\n",
    "print response"
   ]
  },
  {
   "cell_type": "code",
   "execution_count": 28,
   "metadata": {
    "collapsed": false
   },
   "outputs": [
    {
     "name": "stdout",
     "output_type": "stream",
     "text": [
      "567 943 3\n",
      "126\n"
     ]
    }
   ],
   "source": [
    "## Count Divisors\n",
    "## Accepted :)\n",
    "\n",
    "def count_divisors():\n",
    "    l, r, k = [int(i) for i in raw_input().split(' ') if 1 <= int(i) <= 1000]\n",
    "    if r - l == 0:\n",
    "        return 0\n",
    "    return ((r - l) / k) + 1\n",
    "\n",
    "response = count_divisors()\n",
    "print response"
   ]
  },
  {
   "cell_type": "code",
   "execution_count": 31,
   "metadata": {
    "collapsed": false
   },
   "outputs": [
    {
     "name": "stdout",
     "output_type": "stream",
     "text": [
      "180\n",
      "3\n",
      "640 480\n",
      "120 300\n",
      "180 180\n",
      "CROP IT\n",
      "UPLOAD ANOTHER\n",
      "ACCEPTED\n"
     ]
    }
   ],
   "source": [
    "# Roy And Profile Picture\n",
    "## Accepted :)\n",
    "\n",
    "def profile_pic_status():\n",
    "    L = int(raw_input())\n",
    "    if 1 <= L <= 10000:\n",
    "        N = int(raw_input())\n",
    "        if 1 <= N <= 1000:\n",
    "            count = 0\n",
    "            output = []\n",
    "            while count < N:\n",
    "                W, H = [int(i) for i in raw_input().split(' ')]\n",
    "                if (W >= L) and (H >= L):\n",
    "                    if W == H:\n",
    "                        output.append('ACCEPTED')\n",
    "                    else:\n",
    "                        output.append('CROP IT')\n",
    "                else:\n",
    "                    output.append('UPLOAD ANOTHER')\n",
    "                count += 1\n",
    "            return output\n",
    "\n",
    "response = profile_pic_status()\n",
    "for res in response:\n",
    "    print res\n",
    "    "
   ]
  },
  {
   "cell_type": "code",
   "execution_count": 32,
   "metadata": {
    "collapsed": false
   },
   "outputs": [
    {
     "name": "stdout",
     "output_type": "stream",
     "text": [
      "2\n",
      "2\n"
     ]
    }
   ],
   "source": [
    "## Factorial\n",
    "## Accepted :)\n",
    "\n",
    "def factorial():\n",
    "    N = int(raw_input())\n",
    "    fact = 1\n",
    "    while N > 0:\n",
    "        fact *= N\n",
    "        N -= 1\n",
    "    return fact\n",
    "\n",
    "response = factorial()\n",
    "print response"
   ]
  },
  {
   "cell_type": "code",
   "execution_count": 2,
   "metadata": {
    "collapsed": false
   },
   "outputs": [
    {
     "name": "stdout",
     "output_type": "stream",
     "text": [
      "1\n",
      "1\n",
      "2\n",
      "2\n",
      "88\n",
      "88\n",
      "42\n"
     ]
    }
   ],
   "source": [
    "## Life, the Universe, and Everything\n",
    "## Accepted :)\n",
    "\n",
    "def rewrite_input():\n",
    "    N = int(raw_input())\n",
    "    while N != 42:\n",
    "        print N\n",
    "        N = int(raw_input())\n",
    "    return\n",
    "\n",
    "rewrite_input()"
   ]
  },
  {
   "cell_type": "code",
   "execution_count": 3,
   "metadata": {
    "collapsed": false
   },
   "outputs": [
    {
     "name": "stdout",
     "output_type": "stream",
     "text": [
      "1\n",
      "6\n",
      "AFREEN\n",
      "{'A': 65, 'N': 78, 'R': 82, 'E': 69, 'F': 70}\n"
     ]
    }
   ],
   "source": [
    "## Magical Word\n",
    "import math\n",
    "\n",
    "def is_prime(number):\n",
    "    primes = [2, 3, 5, 7, 11, 13]\n",
    "def get_nearest_prime(number):\n",
    "    type_of_number = 1 if number % 2 == 0 else 0\n",
    "    prime_check_count = 0\n",
    "    found_prime = False\n",
    "    if type_of_number == 1:\n",
    "        prime_check_count = 1\n",
    "        while not found_prime:\n",
    "            f_num = number - count\n",
    "            s_num = number + count\n",
    "            if is_prime(f_num) or is_prime(s_num):\n",
    "                found_prime = True\n",
    "            else:\n",
    "                count += 2\n",
    "    else:\n",
    "        prime_check_count = 2\n",
    "        while not found_prime:\n",
    "            f_num = number - count\n",
    "            s_num = number + count\n",
    "            if is_prime(f_num) or is_prime(s_num):\n",
    "                found_prime = True\n",
    "            else:\n",
    "                count += 2\n",
    "\n",
    "def find_magical_word():\n",
    "    T = int(raw_input())\n",
    "    count = 0\n",
    "    while count < T:\n",
    "        N = int(raw_input())\n",
    "        S = raw_input()\n",
    "        if len(S) == N:\n",
    "            new_string = ''\n",
    "            for char in S:\n",
    "                prime_ascii_char = get_nearest_prime(ord(char))\n",
    "        count += 1\n",
    "\n",
    "find_magical_word()\n"
   ]
  },
  {
   "cell_type": "code",
   "execution_count": null,
   "metadata": {
    "collapsed": true
   },
   "outputs": [],
   "source": []
  }
 ],
 "metadata": {
  "kernelspec": {
   "display_name": "Python 2",
   "language": "python",
   "name": "python2"
  },
  "language_info": {
   "codemirror_mode": {
    "name": "ipython",
    "version": 2
   },
   "file_extension": ".py",
   "mimetype": "text/x-python",
   "name": "python",
   "nbconvert_exporter": "python",
   "pygments_lexer": "ipython2",
   "version": "2.7.12"
  }
 },
 "nbformat": 4,
 "nbformat_minor": 0
}
