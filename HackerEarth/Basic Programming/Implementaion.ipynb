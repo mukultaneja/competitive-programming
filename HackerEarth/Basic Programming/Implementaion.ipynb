{
 "cells": [
  {
   "cell_type": "code",
   "execution_count": null,
   "metadata": {
    "collapsed": false
   },
   "outputs": [],
   "source": [
    "## The Great Kian\n",
    "## Accepted :)\n",
    "\n",
    "def find_sequence():\n",
    "    N = int(raw_input())\n",
    "    if 1 <= N <= 100000:\n",
    "        array = [int(i) for i in raw_input().split(' ') if 1 <= int(i) <= 1000000000]\n",
    "        first_jump_sum = 0\n",
    "        second_jump_sum = 0\n",
    "        third_jump_sum = 0\n",
    "        index = 0\n",
    "        while index < len(array):\n",
    "            try:\n",
    "                first_jump_sum += array[index]\n",
    "                second_jump_sum += array[index+1]\n",
    "                third_jump_sum += array[index+2]\n",
    "            except IndexError:\n",
    "                pass\n",
    "            index += 3\n",
    "        return first_jump_sum, second_jump_sum, third_jump_sum\n",
    "\n",
    "first, second, third = find_sequence()\n",
    "print first, second, third\n",
    "        "
   ]
  },
  {
   "cell_type": "code",
   "execution_count": 4,
   "metadata": {
    "collapsed": false
   },
   "outputs": [
    {
     "name": "stdout",
     "output_type": "stream",
     "text": [
      "10\n",
      "8 6 2 10 10 7 7 9 7 5\n",
      "NO\n"
     ]
    }
   ],
   "source": [
    "## min-max\n",
    "## Accepted :)\n",
    "\n",
    "def check_numbers():\n",
    "    N = int(raw_input())\n",
    "    if 1 <= N <= 1000:\n",
    "        array = [int(i) for i in raw_input().split(' ') if 1 <= int(i) <= 100]\n",
    "        min_element = min(array)\n",
    "        max_element = max(array) + 1\n",
    "        for num in range(min_element, max_element):\n",
    "            if num in array:\n",
    "                continue\n",
    "            else:\n",
    "                break\n",
    "        else:\n",
    "            return 'YES'\n",
    "        return 'NO'\n",
    "\n",
    "print check_numbers()"
   ]
  },
  {
   "cell_type": "code",
   "execution_count": 5,
   "metadata": {
    "collapsed": false
   },
   "outputs": [
    {
     "name": "stdout",
     "output_type": "stream",
     "text": [
      "13\n",
      "aahkcreeatrha\n",
      "1\n"
     ]
    }
   ],
   "source": [
    "## print hackerearth\n",
    "## Accepted :)\n",
    "\n",
    "\n",
    "from collections import Counter\n",
    "\n",
    "def main():\n",
    "    N = int(raw_input())\n",
    "    if 1 <= N <= 1000000:\n",
    "        chars = raw_input()\n",
    "        chars_dict = Counter(chars)\n",
    "        h_count = chars_dict.get('h')/2 if chars_dict.get('h') else None\n",
    "        a_count = chars_dict.get('a')/2 if chars_dict.get('a') else None\n",
    "        c_count = chars_dict.get('c') if chars_dict.get('c') else None\n",
    "        k_count = chars_dict.get('k') if chars_dict.get('k') else None\n",
    "        e_count = chars_dict.get('e')/2 if chars_dict.get('e') else None\n",
    "        r_count = chars_dict.get('r')/2 if chars_dict.get('r') else None\n",
    "        t_count = chars_dict.get('t') if chars_dict.get('t') else None\n",
    "        hacker_earth_count = [h_count, a_count, c_count, k_count, e_count, r_count, t_count]\n",
    "        return min(hacker_earth_count)\n",
    "\n",
    "\n",
    "if __name__ == '__main__':\n",
    "    output = main()\n",
    "    if output == None:\n",
    "        print 0\n",
    "    else:\n",
    "        print output"
   ]
  },
  {
   "cell_type": "code",
   "execution_count": 32,
   "metadata": {
    "collapsed": false
   },
   "outputs": [
    {
     "name": "stdout",
     "output_type": "stream",
     "text": [
      "0001111110\n"
     ]
    },
    {
     "data": {
      "text/plain": [
       "'Sorry, sorry!'"
      ]
     },
     "execution_count": 32,
     "metadata": {},
     "output_type": "execute_result"
    }
   ],
   "source": [
    "## Little Jhool and psychic powers\n",
    "## Accepted :)\n",
    "\n",
    "def predict_future():\n",
    "    S = raw_input()\n",
    "    prev = 0\n",
    "    count = 0\n",
    "    for num in S:\n",
    "        num = int(num)\n",
    "        if num == prev:\n",
    "            count += 1\n",
    "        else:\n",
    "            prev = num\n",
    "            count = 1\n",
    "        if count >= 6:\n",
    "            return 'Sorry, sorry!'\n",
    "\n",
    "    return 'Good luck!'\n",
    "\n",
    "predict_future()"
   ]
  },
  {
   "cell_type": "code",
   "execution_count": 12,
   "metadata": {
    "collapsed": false
   },
   "outputs": [
    {
     "data": {
      "text/plain": [
       "'11111'"
      ]
     },
     "execution_count": 12,
     "metadata": {},
     "output_type": "execute_result"
    }
   ],
   "source": []
  },
  {
   "cell_type": "code",
   "execution_count": null,
   "metadata": {
    "collapsed": true
   },
   "outputs": [],
   "source": []
  }
 ],
 "metadata": {
  "kernelspec": {
   "display_name": "Python 2",
   "language": "python",
   "name": "python2"
  },
  "language_info": {
   "codemirror_mode": {
    "name": "ipython",
    "version": 2
   },
   "file_extension": ".py",
   "mimetype": "text/x-python",
   "name": "python",
   "nbconvert_exporter": "python",
   "pygments_lexer": "ipython2",
   "version": "2.7.12"
  }
 },
 "nbformat": 4,
 "nbformat_minor": 0
}
