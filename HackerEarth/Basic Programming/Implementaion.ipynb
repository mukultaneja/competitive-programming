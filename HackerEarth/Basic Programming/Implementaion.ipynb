{
 "cells": [
  {
   "cell_type": "code",
   "execution_count": null,
   "metadata": {
    "collapsed": false
   },
   "outputs": [],
   "source": [
    "## The Great Kian\n",
    "## Accepted :)\n",
    "\n",
    "def find_sequence():\n",
    "    N = int(raw_input())\n",
    "    if 1 <= N <= 100000:\n",
    "        array = [int(i) for i in raw_input().split(' ') if 1 <= int(i) <= 1000000000]\n",
    "        first_jump_sum = 0\n",
    "        second_jump_sum = 0\n",
    "        third_jump_sum = 0\n",
    "        index = 0\n",
    "        while index < len(array):\n",
    "            try:\n",
    "                first_jump_sum += array[index]\n",
    "                second_jump_sum += array[index+1]\n",
    "                third_jump_sum += array[index+2]\n",
    "            except IndexError:\n",
    "                pass\n",
    "            index += 3\n",
    "        return first_jump_sum, second_jump_sum, third_jump_sum\n",
    "\n",
    "first, second, third = find_sequence()\n",
    "print first, second, third\n",
    "        "
   ]
  },
  {
   "cell_type": "code",
   "execution_count": 4,
   "metadata": {
    "collapsed": false
   },
   "outputs": [
    {
     "name": "stdout",
     "output_type": "stream",
     "text": [
      "10\n",
      "8 6 2 10 10 7 7 9 7 5\n",
      "NO\n"
     ]
    }
   ],
   "source": [
    "## min-max\n",
    "## Accepted :)\n",
    "\n",
    "def check_numbers():\n",
    "    N = int(raw_input())\n",
    "    if 1 <= N <= 1000:\n",
    "        array = [int(i) for i in raw_input().split(' ') if 1 <= int(i) <= 100]\n",
    "        min_element = min(array)\n",
    "        max_element = max(array) + 1\n",
    "        for num in range(min_element, max_element):\n",
    "            if num in array:\n",
    "                continue\n",
    "            else:\n",
    "                break\n",
    "        else:\n",
    "            return 'YES'\n",
    "        return 'NO'\n",
    "\n",
    "print check_numbers()"
   ]
  },
  {
   "cell_type": "code",
   "execution_count": 5,
   "metadata": {
    "collapsed": false
   },
   "outputs": [
    {
     "name": "stdout",
     "output_type": "stream",
     "text": [
      "13\n",
      "aahkcreeatrha\n",
      "1\n"
     ]
    }
   ],
   "source": [
    "## print hackerearth\n",
    "## Accepted :)\n",
    "\n",
    "\n",
    "from collections import Counter\n",
    "\n",
    "def main():\n",
    "    N = int(raw_input())\n",
    "    if 1 <= N <= 1000000:\n",
    "        chars = raw_input()\n",
    "        chars_dict = Counter(chars)\n",
    "        h_count = chars_dict.get('h')/2 if chars_dict.get('h') else None\n",
    "        a_count = chars_dict.get('a')/2 if chars_dict.get('a') else None\n",
    "        c_count = chars_dict.get('c') if chars_dict.get('c') else None\n",
    "        k_count = chars_dict.get('k') if chars_dict.get('k') else None\n",
    "        e_count = chars_dict.get('e')/2 if chars_dict.get('e') else None\n",
    "        r_count = chars_dict.get('r')/2 if chars_dict.get('r') else None\n",
    "        t_count = chars_dict.get('t') if chars_dict.get('t') else None\n",
    "        hacker_earth_count = [h_count, a_count, c_count, k_count, e_count, r_count, t_count]\n",
    "        return min(hacker_earth_count)\n",
    "\n",
    "\n",
    "if __name__ == '__main__':\n",
    "    output = main()\n",
    "    if output == None:\n",
    "        print 0\n",
    "    else:\n",
    "        print output"
   ]
  },
  {
   "cell_type": "code",
   "execution_count": 32,
   "metadata": {
    "collapsed": false
   },
   "outputs": [
    {
     "name": "stdout",
     "output_type": "stream",
     "text": [
      "0001111110\n"
     ]
    },
    {
     "data": {
      "text/plain": [
       "'Sorry, sorry!'"
      ]
     },
     "execution_count": 32,
     "metadata": {},
     "output_type": "execute_result"
    }
   ],
   "source": [
    "## Little Jhool and psychic powers\n",
    "## Accepted :)\n",
    "\n",
    "def predict_future():\n",
    "    S = raw_input()\n",
    "    prev = 0\n",
    "    count = 0\n",
    "    for num in S:\n",
    "        num = int(num)\n",
    "        if num == prev:\n",
    "            count += 1\n",
    "        else:\n",
    "            prev = num\n",
    "            count = 1\n",
    "        if count >= 6:\n",
    "            return 'Sorry, sorry!'\n",
    "\n",
    "    return 'Good luck!'\n",
    "\n",
    "predict_future()"
   ]
  },
  {
   "cell_type": "code",
   "execution_count": 24,
   "metadata": {
    "collapsed": false
   },
   "outputs": [
    {
     "name": "stdout",
     "output_type": "stream",
     "text": [
      "1\n",
      "jcnuumhxsypoowjcphfezxhbfemgftoktermpd\n",
      "nsamzgsmmewbtclknhkkhnklctbwemmsgzmasn\n"
     ]
    }
   ],
   "source": [
    "## Addition ain't simple\n",
    "## Accepted :)\n",
    "\n",
    "def add_strings():\n",
    "    N = int(raw_input())\n",
    "    count = 0\n",
    "    output = []\n",
    "    chars = {\n",
    "        'a': 1,\n",
    "        'b': 2,\n",
    "        'c': 3,\n",
    "        'd': 4,\n",
    "        'e': 5,\n",
    "        'f': 6,\n",
    "        'g': 7,\n",
    "        'h': 8,\n",
    "        'i': 9,\n",
    "        'j': 10,\n",
    "        'k': 11,\n",
    "        'l': 12,\n",
    "        'm': 13,\n",
    "        'n': 14,\n",
    "        'o': 15,\n",
    "        'p': 16,\n",
    "        'q': 17,\n",
    "        'r': 18,\n",
    "        's': 19,\n",
    "        't': 20,\n",
    "        'u': 21,\n",
    "        'v': 22,\n",
    "        'w': 23,\n",
    "        'x': 24,\n",
    "        'y': 25,\n",
    "        'z': 26,\n",
    "    }\n",
    "\n",
    "    reverse_chars = {}\n",
    "\n",
    "    for char, value in chars.items():\n",
    "        reverse_chars[value] = char\n",
    "\n",
    "    while count < N:\n",
    "        string = raw_input()\n",
    "        reverse_string = string[::-1]\n",
    "        new_string = ''\n",
    "        for index in range(len(string)):\n",
    "            addition = (chars[string[index]] + chars[reverse_string[index]]) % 26\n",
    "            if addition == 0:\n",
    "                addition = 26\n",
    "            new_string += reverse_chars.get(addition)\n",
    "        output.append(new_string)\n",
    "        count += 1\n",
    "\n",
    "    return output\n",
    "\n",
    "output = add_strings()\n",
    "\n",
    "for response in output:\n",
    "    print response"
   ]
  },
  {
   "cell_type": "code",
   "execution_count": 5,
   "metadata": {
    "collapsed": false
   },
   "outputs": [
    {
     "name": "stdout",
     "output_type": "stream",
     "text": [
      "LRUD\n",
      "2 0\n"
     ]
    }
   ],
   "source": [
    "## Final Destination\n",
    "## Accepted :)\n",
    "\n",
    "def find_final_destination(S, start):\n",
    "    if 1 <= len(S) <= 100000:\n",
    "        for command in S:\n",
    "            if command == 'L':\n",
    "                start[0] = start[0] - 1\n",
    "            if command == 'R':\n",
    "                start[0] = start[0] + 1\n",
    "            if command == 'D':\n",
    "                start[1] = start[1] - 1\n",
    "            if command == 'U':\n",
    "                start[1] = start[1] + 1\n",
    "        end = '{}'.format(start[0]) + ' ' + '{}'.format(start[1])\n",
    "        return end\n",
    "\n",
    "S = raw_input()\n",
    "start = [0, 0]\n",
    "end = find_final_destination(S, start)\n",
    "print end"
   ]
  },
  {
   "cell_type": "code",
   "execution_count": 8,
   "metadata": {
    "collapsed": false
   },
   "outputs": [
    {
     "name": "stdout",
     "output_type": "stream",
     "text": [
      "1\n",
      "SSEESEECEESSESECEECECECCECCCCEEESESSCSCECEESCSCEESCCESCCESSSEEEECECSEECCCCCSCECCESESSEEECSECESEECSECSEESECESCESEECCCCECSEESSCSSECEECEECSESCSEESCSSSCCSCEECCCECSSSEESCCCEECSCECESCEEEECSSECECSSSECCCECCCCSSEECSESCEECSCSCSESECCEESECSCCEESSECECCSECSSCSSEESSCSESCCSSECSCSSECECESCCCCECEECECCSSECECEESECSESCCCECEESSSSECCEEECEESCSESCECCCEESSCSSCCESSSESSECSCSEESCSCCCSSCSESSSCCCECESESEECSSECSCSCESEESSEESEEEECCEECCCSEESCCSCESCSCEESESSSESESSSSCSEEESSCSCEEEEESESECEEESECCCECCEECECESESSEEESEECSSSEESSSCCEEESCSSEECSCSCSCESEEEESECCCECEESCEECSCCESECSSSEESCECESCSCSEESESSCESSCCECECESCSSCSSCCESCSESCCESSSCSSCSSESESCEESCCCEESESEESCSSCCSCSCCSCCECCECEEESCECCSESSSCSEECECCECEECCCECCSSCSCCSCSEEEEESCSCCECSCECSCECCEESSCCSSECESECECECCCSCCSSSCSCSSCCCCCECSEECEESSSCESEESSCSECECEESESSCSESSCSCESEEECCSCCEECESCEEEEECSCECSSCSESCCSEEECECCECECSCSCSCECSEECSSECCESCSCESCCCEEEECECCSCCSECCECSSSCCCCCCSECCSESECEEEEEESSCECCSEESCSSCSSCSCSSSECSSESSCSCEECECEEEESSEESESEESSCCSEEESSCESSSCCCCECECCSCCEEESECSECEECESEECCSEECESSCCSCECCCCSECCSEECECESCSSECESSSECSCCESEECSESCCESCCCSSCCCSESSECSSSCCSCESEESECCESEECSEEECCCCSEEEECSSCCEESCEEECSSSECECCSSCECECSSCEECCCSCEECSSCECCCSCSSCECSCCESCSSSSEESCSCCCEEECCECCCECECSSSCSCCCCCEESCEECCCEECESCEEECSSEESCCSECCSCSCESSSEEECCECCSESECEESCSCSCCECCECECSSCCSSSEESCSCSSESCCSEECCECECCCSSECCESCSSECECCSESSEEESCSCCECSESCSECCCCSESCCESECSESCCCSSEESCECCEEECEEESSCCCESCESEESSSECSEEESSCSSCCSSCECSEEECCCSCEECSCEESCEEEECECCECSSSSSECECCSCCCCSCEESSESCESECESSSSCCSECSSSSS\n",
      "1 0\n"
     ]
    }
   ],
   "source": [
    "## Roy's Life Cycle\n",
    "## in progress\n",
    "\n",
    "def find_LCS(x, y):\n",
    "    m = len(x) + 1\n",
    "    n = len(y) + 1\n",
    "    LCS = [[0 for j in range(n)] for i in range(m)]\n",
    "    for i in range(1, m):\n",
    "        for j in range(1, n):\n",
    "            if x[i-1] == y[j-1]:\n",
    "                LCS[i][j] = LCS[i-1][j-1] + 1\n",
    "            else:\n",
    "                LCS[i][j] = max(LCS[i-1][j], LCS[i][j-1])\n",
    "    len_of_comman = LCS[m-1][n-1]\n",
    "    index_of_c = x.index('C')\n",
    "    count = 0\n",
    "    for char in x[index_of_c: index_of_c + len_of_comman]:\n",
    "        if char == 'C':\n",
    "            count += 1\n",
    "        else:\n",
    "            return count\n",
    "    return count\n",
    "\n",
    "def find_longest_day_codestreak(count, x, total_day_result):\n",
    "    if count % 2 == 0:\n",
    "        if x[len(x)-1] == 'C':\n",
    "            x = x[::-1]\n",
    "            return total_day_result + find_LCS(x, 'C'*len(x))\n",
    "    else:\n",
    "        if x[0] == 'C':\n",
    "            return total_day_result + find_LCS(x, 'C'*len(x))\n",
    "    return total_day_result\n",
    "\n",
    "def main():\n",
    "    N = int(raw_input())\n",
    "    count = 0\n",
    "    output = []\n",
    "    total_day_result = 0\n",
    "    if 1 <= N <= 365:\n",
    "        while count < N:\n",
    "            x = raw_input()\n",
    "            y = 'C'*len(x)\n",
    "            result_count = find_LCS(x, y)\n",
    "            output.append(result_count)\n",
    "            total_day_result = find_longest_day_codestreak(count, x, total_day_result)\n",
    "            count += 1\n",
    "    print max(output), total_day_result\n",
    "\n",
    "main()"
   ]
  },
  {
   "cell_type": "code",
   "execution_count": null,
   "metadata": {
    "collapsed": true
   },
   "outputs": [],
   "source": []
  }
 ],
 "metadata": {
  "kernelspec": {
   "display_name": "Python 2",
   "language": "python",
   "name": "python2"
  },
  "language_info": {
   "codemirror_mode": {
    "name": "ipython",
    "version": 2
   },
   "file_extension": ".py",
   "mimetype": "text/x-python",
   "name": "python",
   "nbconvert_exporter": "python",
   "pygments_lexer": "ipython2",
   "version": "2.7.12"
  }
 },
 "nbformat": 4,
 "nbformat_minor": 0
}
