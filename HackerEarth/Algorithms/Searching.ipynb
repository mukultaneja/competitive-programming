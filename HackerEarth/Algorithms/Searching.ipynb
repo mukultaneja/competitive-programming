{
 "cells": [
  {
   "cell_type": "code",
   "execution_count": 1,
   "metadata": {
    "collapsed": false
   },
   "outputs": [
    {
     "name": "stdout",
     "output_type": "stream",
     "text": [
      "Hello world\n"
     ]
    }
   ],
   "source": [
    "## Bishu and Soldiers\n",
    "\n",
    "def main():\n",
    "    print 'Hello world'\n",
    "\n",
    "main()"
   ]
  },
  {
   "cell_type": "code",
   "execution_count": 1,
   "metadata": {
    "collapsed": false
   },
   "outputs": [
    {
     "name": "stdout",
     "output_type": "stream",
     "text": [
      "5\n",
      "1 2 1 3 4\n",
      "3\n",
      "4\n",
      "2\n",
      "10\n",
      "3\n",
      "2\n",
      "5\n"
     ]
    }
   ],
   "source": [
    "## Square Transaction\n",
    "# Accepted :)\n",
    "\n",
    "def main():\n",
    "    T = long(raw_input())\n",
    "    N = [int(i) for i in raw_input().split(' ') if i!= '']\n",
    "    Q = long(raw_input())\n",
    "    output = []\n",
    "    for query in xrange(Q):\n",
    "        target = long(raw_input())\n",
    "        s = 0\n",
    "        index = 0\n",
    "        for transaction in N:\n",
    "            s += transaction\n",
    "            index += 1\n",
    "            if s >= target:\n",
    "                output.append(index)\n",
    "                break\n",
    "        else:\n",
    "            output.append(-1)\n",
    "    return output\n",
    "\n",
    "output = main()\n",
    "for out in output:\n",
    "    print out"
   ]
  },
  {
   "cell_type": "code",
   "execution_count": 7,
   "metadata": {
    "collapsed": false
   },
   "outputs": [
    {
     "name": "stdout",
     "output_type": "stream",
     "text": [
      "4\n",
      "G: I want to go on 19\n",
      "M: No that is not possible lets go on 21\n",
      "G: No 19 is final and 21 is not\n",
      "M: OKAY as you wish\n",
      "Date\n"
     ]
    }
   ],
   "source": [
    "## Breakup App\n",
    "## Accepted :)\n",
    "\n",
    "def main():\n",
    "    N = int(raw_input())\n",
    "    messages = {}\n",
    "    for i in range(N):\n",
    "        key, line = raw_input().split(':')\n",
    "        try:\n",
    "            prev_message = messages[key]\n",
    "            messages[key] = prev_message + line\n",
    "        except KeyError:\n",
    "            messages[key] = line\n",
    "    girl_19 = messages['G'].count('19') * 2\n",
    "    girl_21 = messages['G'].count('21') * 2\n",
    "    boy_19 = messages['G'].count('19') * 1\n",
    "    boy_21 = messages['G'].count('21') * 1\n",
    "    total_19 = girl_19 + boy_19\n",
    "    total_21 = girl_21 + boy_21\n",
    "    if total_19 > total_21:\n",
    "        print 'Date'\n",
    "    else:\n",
    "        print 'No Date'\n",
    "\n",
    "main()"
   ]
  },
  {
   "cell_type": "code",
   "execution_count": 1,
   "metadata": {
    "collapsed": false
   },
   "outputs": [
    {
     "name": "stdout",
     "output_type": "stream",
     "text": [
      "1\n",
      "120\n",
      "The streak lives still in our heart!\n"
     ]
    }
   ],
   "source": [
    "## Rest in peace - 21-1!\n",
    "## Accepted :)\n",
    "\n",
    "\n",
    "def main():\n",
    "    T = int(raw_input())\n",
    "    for test in range(T):\n",
    "        num = raw_input()\n",
    "        if '21' in num or long(num) % 21 == 0:\n",
    "            print 'The streak is broken!'\n",
    "        else:\n",
    "            print 'The streak lives still in our heart!'\n",
    "\n",
    "main()"
   ]
  },
  {
   "cell_type": "code",
   "execution_count": null,
   "metadata": {
    "collapsed": true
   },
   "outputs": [],
   "source": []
  }
 ],
 "metadata": {
  "kernelspec": {
   "display_name": "Python 2",
   "language": "python",
   "name": "python2"
  },
  "language_info": {
   "codemirror_mode": {
    "name": "ipython",
    "version": 2
   },
   "file_extension": ".py",
   "mimetype": "text/x-python",
   "name": "python",
   "nbconvert_exporter": "python",
   "pygments_lexer": "ipython2",
   "version": "2.7.12"
  }
 },
 "nbformat": 4,
 "nbformat_minor": 0
}
