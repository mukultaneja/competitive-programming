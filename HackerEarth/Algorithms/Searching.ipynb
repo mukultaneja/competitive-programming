{
 "cells": [
  {
   "cell_type": "code",
   "execution_count": null,
   "metadata": {
    "collapsed": false
   },
   "outputs": [],
   "source": [
    "## The Old Monk\n",
    "\n",
    "def main():\n",
    "    T = int(raw_input())\n",
    "    count = 0\n",
    "    output = []\n",
    "    while count < T:\n",
    "        N = long(raw_input())\n",
    "        A = [long(i) for i in raw_input().split(' ')]\n",
    "        B = [long(i) for i in raw_input().split(' ')]\n",
    "        M = list()\n",
    "        for i in xrange(N):\n",
    "            M = map(lambda j: j - i if B[j] >= A[i] else 0, xrange(i)) \n",
    "            # for j in xrange(N):\n",
    "            #     if B[j] >= A[i]:\n",
    "            #         M.append(j - i)\n",
    "            #     else:\n",
    "            #         M.append(0)\n",
    "        output.append(max(M))\n",
    "        count += 1\n",
    "    return output\n",
    "\n",
    "output = main()\n",
    "for out in output:\n",
    "    print out\n"
   ]
  },
  {
   "cell_type": "code",
   "execution_count": null,
   "metadata": {
    "collapsed": false
   },
   "outputs": [],
   "source": [
    "## Square Transaction\n",
    "# Accepted :)\n",
    "\n",
    "def main():\n",
    "    T = long(raw_input())\n",
    "    N = [int(i) for i in raw_input().split(' ') if i!= '']\n",
    "    Q = long(raw_input())\n",
    "    output = []\n",
    "    for query in xrange(Q):\n",
    "        target = long(raw_input())\n",
    "        s = 0\n",
    "        index = 0\n",
    "        for transaction in N:\n",
    "            s += transaction\n",
    "            index += 1\n",
    "            if s >= target:\n",
    "                output.append(index)\n",
    "                break\n",
    "        else:\n",
    "            output.append(-1)\n",
    "    return output\n",
    "\n",
    "output = main()\n",
    "for out in output:\n",
    "    print out"
   ]
  },
  {
   "cell_type": "code",
   "execution_count": null,
   "metadata": {
    "collapsed": false
   },
   "outputs": [],
   "source": [
    "## Breakup App\n",
    "## Accepted :)\n",
    "\n",
    "def main():\n",
    "    N = int(raw_input())\n",
    "    messages = {}\n",
    "    for i in range(N):\n",
    "        key, line = raw_input().split(':')\n",
    "        try:\n",
    "            prev_message = messages[key]\n",
    "            messages[key] = prev_message + line\n",
    "        except KeyError:\n",
    "            messages[key] = line\n",
    "    girl_19 = messages['G'].count('19') * 2\n",
    "    girl_21 = messages['G'].count('21') * 2\n",
    "    boy_19 = messages['G'].count('19') * 1\n",
    "    boy_21 = messages['G'].count('21') * 1\n",
    "    total_19 = girl_19 + boy_19\n",
    "    total_21 = girl_21 + boy_21\n",
    "    if total_19 > total_21:\n",
    "        print 'Date'\n",
    "    else:\n",
    "        print 'No Date'\n",
    "\n",
    "main()"
   ]
  },
  {
   "cell_type": "code",
   "execution_count": null,
   "metadata": {
    "collapsed": false
   },
   "outputs": [],
   "source": [
    "## Rest in peace - 21-1!\n",
    "## Accepted :)\n",
    "\n",
    "\n",
    "def main():\n",
    "    T = int(raw_input())\n",
    "    for test in range(T):\n",
    "        num = raw_input()\n",
    "        if '21' in num or long(num) % 21 == 0:\n",
    "            print 'The streak is broken!'\n",
    "        else:\n",
    "            print 'The streak lives still in our heart!'\n",
    "\n",
    "main()"
   ]
  },
  {
   "cell_type": "code",
   "execution_count": null,
   "metadata": {
    "collapsed": false
   },
   "outputs": [],
   "source": [
    "## Bishu and Soldiers\n",
    "\n",
    "def search(powers, low, high, M):\n",
    "    if low <= high:\n",
    "        mid = (low + high) / 2\n",
    "        if powers[mid] == M:\n",
    "            return mid\n",
    "        elif powers[mid] > M:\n",
    "            high = mid - 1\n",
    "            return search(powers, low, high, M)\n",
    "        elif powers[mid] < M:\n",
    "            low = mid + 1\n",
    "            return search(powers, low, high, M)\n",
    "        else:\n",
    "            return -1\n",
    "\n",
    "def main():\n",
    "    N = int(raw_input())\n",
    "    if 1 <= N <= 10000:\n",
    "        powers = [int(i) for i in raw_input().split(' ')]\n",
    "        powers.sort()\n",
    "        low = 0\n",
    "        high = len(powers) - 1\n",
    "        Q = int(raw_input())\n",
    "        output = []\n",
    "        for rounds in range(Q):\n",
    "            M = int(raw_input())\n",
    "\n",
    "            if M >= max(powers):\n",
    "                index = high\n",
    "            elif M < min(powers):\n",
    "                index = 0\n",
    "            else:\n",
    "                index = search(powers, low, high, M)\n",
    "\n",
    "            if index > -1:\n",
    "                soldiers = powers[low:index+1]\n",
    "                output.append(' '.join(['{}'.format(len(soldiers)), '{}'.format(sum(soldiers))]))\n",
    "        return output\n",
    "\n",
    "output = main()\n",
    "for response in output:\n",
    "    print response\n"
   ]
  },
  {
   "cell_type": "code",
   "execution_count": null,
   "metadata": {
    "collapsed": false
   },
   "outputs": [],
   "source": []
  },
  {
   "cell_type": "code",
   "execution_count": null,
   "metadata": {
    "collapsed": false
   },
   "outputs": [],
   "source": []
  },
  {
   "cell_type": "code",
   "execution_count": null,
   "metadata": {
    "collapsed": false
   },
   "outputs": [],
   "source": [
    "## practise\n",
    "\n",
    "def search(array, low, high, item):\n",
    "    if low <= high:\n",
    "        mid = (low + high) / 2\n",
    "        if array[mid] == item:\n",
    "            return len(array[low:mid+1])\n",
    "        elif array[mid] > item:\n",
    "            if array[mid-1] > item:\n",
    "                return search(array, low, mid, item)\n",
    "            else:\n",
    "                return len(array[low:mid])\n",
    "        elif array[mid] < item:\n",
    "            if array[mid+1] < item:\n",
    "                return search(array, mid, high, item)\n",
    "            else:\n",
    "                return len(array[mid:high])\n",
    "        else:\n",
    "            return -1\n",
    "\n",
    "def main():\n",
    "    array = [10, 5, 12, 1, 9, 18, 23, 50]\n",
    "    array.sort()\n",
    "    item = 24\n",
    "    if item > max(array):\n",
    "        return len(array)\n",
    "    if item < min(array):\n",
    "        return 0\n",
    "    return search(array, 0, len(array) - 1, item)\n",
    "\n",
    "print main()"
   ]
  },
  {
   "cell_type": "code",
   "execution_count": 9,
   "metadata": {
    "collapsed": false
   },
   "outputs": [
    {
     "name": "stdout",
     "output_type": "stream",
     "text": [
      "1\n",
      "7\n",
      "bdrmfyinhbibgw\n",
      "gyrdtrliurnyywgqpfvq\n",
      "nheavlxwadnqrstmrvgitisban\n",
      "zghnuoxngjdxvppbuyjshimvq\n",
      "glijutzqxkpaxnzsicdmmbhzgwnn\n",
      "sjvedjgtcqapqvfjvvwwc\n",
      "icgadskw\n",
      "Counter({'g': 10, 'n': 10, 'i': 9, 'v': 9, 'd': 7, 'q': 7, 'w': 7, 'a': 6, 'b': 6, 'j': 6, 's': 6, 'r': 6, 'h': 5, 'm': 5, 'p': 5, 't': 5, 'y': 5, 'x': 5, 'c': 4, 'u': 4, 'z': 4, 'f': 3, 'l': 3, 'e': 2, 'k': 2, 'o': 1})\n",
      "ltbwdikvpgufehiwzdsnefihfxyqqewkx\n",
      "NO\n"
     ]
    }
   ],
   "source": [
    "## The String Monster\n",
    "\n",
    "from collections import Counter\n",
    "\n",
    "def main():\n",
    "    T = int(raw_input())\n",
    "    count = 0\n",
    "    output = []\n",
    "    while count < T:\n",
    "        N = int(raw_input())\n",
    "        list_strings = []\n",
    "        dict_strings = {}\n",
    "        for i in range(N):\n",
    "            list_strings.append(raw_input())\n",
    "        dict_strings = Counter(''.join(list_strings))\n",
    "        print dict_strings\n",
    "        sleep_strings = Counter(raw_input())\n",
    "        for char, value in sleep_strings.items():\n",
    "            v = dict_strings.get(char, None)\n",
    "            if v >= value:\n",
    "                continue\n",
    "            else:\n",
    "                output.append('NO')\n",
    "                break\n",
    "        else:\n",
    "            output.append('YES')\n",
    "        count += 1\n",
    "    return output\n",
    "\n",
    "output = main()\n",
    "for response in output:\n",
    "    print response\n"
   ]
  },
  {
   "cell_type": "markdown",
   "metadata": {},
   "source": [
    "bdrmfyinhbibgw\n",
    "gyrdtrliurnyywgqpfvq\n",
    "nheavlxwadnqrstmrvgitisban\n",
    "zghnuoxngjdxvppbuyjshimvq\n",
    "glijutzqxkpaxnzsicdmmbhzgwnn\n",
    "sjvedjgtcqapqvfjvvwwc\n",
    "icgadskw\n",
    "ltbwdikvpgufehiwzdsnefihfxyqqewkx"
   ]
  },
  {
   "cell_type": "code",
   "execution_count": null,
   "metadata": {
    "collapsed": true
   },
   "outputs": [],
   "source": []
  }
 ],
 "metadata": {
  "kernelspec": {
   "display_name": "Python 2",
   "language": "python",
   "name": "python2"
  },
  "language_info": {
   "codemirror_mode": {
    "name": "ipython",
    "version": 2
   },
   "file_extension": ".py",
   "mimetype": "text/x-python",
   "name": "python",
   "nbconvert_exporter": "python",
   "pygments_lexer": "ipython2",
   "version": "2.7.12"
  }
 },
 "nbformat": 4,
 "nbformat_minor": 0
}
