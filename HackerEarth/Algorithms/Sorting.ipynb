{
 "cells": [
  {
   "cell_type": "code",
   "execution_count": 1,
   "metadata": {
    "collapsed": false
   },
   "outputs": [
    {
     "name": "stdout",
     "output_type": "stream",
     "text": [
      "5\n",
      "123 146 454 542 456\n",
      "100 328 248 689 200\n",
      "No\n"
     ]
    }
   ],
   "source": [
    "## Save Patients\n",
    "## Accepted :)\n",
    "\n",
    "def save_patients():\n",
    "    N = int(raw_input())\n",
    "    count = 0\n",
    "    vaccine = [int(v) for v in raw_input().split(' ')]\n",
    "    patient = [int(p) for p in raw_input().split(' ')]\n",
    "    while count < N:\n",
    "        if vaccine[count] > patient[count]:\n",
    "            count += 1\n",
    "            continue\n",
    "        return 'No'\n",
    "    else:\n",
    "        return 'Yes'\n",
    "\n",
    "print save_patients()"
   ]
  },
  {
   "cell_type": "code",
   "execution_count": 12,
   "metadata": {
    "collapsed": false
   },
   "outputs": [
    {
     "name": "stdout",
     "output_type": "stream",
     "text": [
      "3 2\n",
      "surbhi 3\n",
      "surpanakha 3\n",
      "shreya 5\n",
      "[3, 5]\n",
      "['shreya']\n",
      "['surbhi', 'surpanakha']\n",
      "shreya\n",
      "surbhi\n"
     ]
    }
   ],
   "source": [
    "## Best Player\n",
    "## Partially Accepted\n",
    "\n",
    "def sort_fan_quotients(fanq):\n",
    "    for i in range(len(fanq) - 1):\n",
    "        for j in range(len(fanq) - 1):\n",
    "            if fanq[j] < fanq[j+1]:\n",
    "                fanq[j], fanq[j+1] = fanq[j+1], fanq[j]\n",
    "    return fanq\n",
    "\n",
    "def help_kalyani():\n",
    "    N, T = [int(i) for i in raw_input().split(' ')]\n",
    "    count = 0\n",
    "    details = {}\n",
    "    output = []\n",
    "    fan_quotients = []\n",
    "\n",
    "    while count < N:\n",
    "        name, fan_quotient = [i for i in raw_input().split(' ')]\n",
    "        fan_quotient = int(fan_quotient)\n",
    "        if details.get(fan_quotient) == None:\n",
    "            details[fan_quotient] = [name,]\n",
    "        else:\n",
    "            details[fan_quotient].append(name)\n",
    "        count += 1\n",
    "\n",
    "    print details.keys()\n",
    "    fan_quotients = sort_fan_quotients(details.keys())\n",
    "    count = 0\n",
    "\n",
    "    while count < T:\n",
    "        pos = fan_quotients[count]\n",
    "        names = details.get(pos)\n",
    "        print names\n",
    "        if len(names) > 0:\n",
    "            names.sort()\n",
    "        output.append(names[0])\n",
    "        count += 1\n",
    "\n",
    "    return output\n",
    "\n",
    "result = help_kalyani()\n",
    "for out in result:\n",
    "    print out"
   ]
  },
  {
   "cell_type": "markdown",
   "metadata": {
    "collapsed": true
   },
   "source": [
    "surbhi 3\n",
    "surpanakha 3\n",
    "shreya 5"
   ]
  },
  {
   "cell_type": "code",
   "execution_count": 1,
   "metadata": {
    "collapsed": false
   },
   "outputs": [
    {
     "name": "stdout",
     "output_type": "stream",
     "text": [
      "Hello world\n"
     ]
    }
   ],
   "source": [
    "print 'Hello world'"
   ]
  },
  {
   "cell_type": "code",
   "execution_count": 21,
   "metadata": {
    "collapsed": false
   },
   "outputs": [
    {
     "ename": "NameError",
     "evalue": "name 'itemgetter' is not defined",
     "output_type": "error",
     "traceback": [
      "\u001b[0;31m---------------------------------------------------------------------------\u001b[0m",
      "\u001b[0;31mNameError\u001b[0m                                 Traceback (most recent call last)",
      "\u001b[0;32m<ipython-input-21-ce5320dd6a8f>\u001b[0m in \u001b[0;36m<module>\u001b[0;34m()\u001b[0m\n\u001b[0;32m----> 1\u001b[0;31m \u001b[0msorted\u001b[0m\u001b[0;34m(\u001b[0m\u001b[0;34m[\u001b[0m\u001b[0;34m(\u001b[0m\u001b[0;34m'red'\u001b[0m\u001b[0;34m,\u001b[0m \u001b[0;36m1\u001b[0m\u001b[0;34m)\u001b[0m\u001b[0;34m,\u001b[0m \u001b[0;34m(\u001b[0m\u001b[0;34m'blue'\u001b[0m\u001b[0;34m,\u001b[0m \u001b[0;36m1\u001b[0m\u001b[0;34m)\u001b[0m\u001b[0;34m,\u001b[0m \u001b[0;34m(\u001b[0m\u001b[0;34m'red'\u001b[0m\u001b[0;34m,\u001b[0m \u001b[0;36m2\u001b[0m\u001b[0;34m)\u001b[0m\u001b[0;34m,\u001b[0m \u001b[0;34m(\u001b[0m\u001b[0;34m'blue'\u001b[0m\u001b[0;34m,\u001b[0m \u001b[0;36m2\u001b[0m\u001b[0;34m)\u001b[0m\u001b[0;34m]\u001b[0m\u001b[0;34m,\u001b[0m \u001b[0mkey\u001b[0m\u001b[0;34m=\u001b[0m\u001b[0mitemgetter\u001b[0m\u001b[0;34m(\u001b[0m\u001b[0;36m0\u001b[0m\u001b[0;34m)\u001b[0m\u001b[0;34m)\u001b[0m\u001b[0;34m\u001b[0m\u001b[0m\n\u001b[0m",
      "\u001b[0;31mNameError\u001b[0m: name 'itemgetter' is not defined"
     ]
    }
   ],
   "source": []
  },
  {
   "cell_type": "code",
   "execution_count": null,
   "metadata": {
    "collapsed": true
   },
   "outputs": [],
   "source": []
  }
 ],
 "metadata": {
  "kernelspec": {
   "display_name": "Python 2",
   "language": "python",
   "name": "python2"
  },
  "language_info": {
   "codemirror_mode": {
    "name": "ipython",
    "version": 2
   },
   "file_extension": ".py",
   "mimetype": "text/x-python",
   "name": "python",
   "nbconvert_exporter": "python",
   "pygments_lexer": "ipython2",
   "version": "2.7.12"
  }
 },
 "nbformat": 4,
 "nbformat_minor": 0
}
