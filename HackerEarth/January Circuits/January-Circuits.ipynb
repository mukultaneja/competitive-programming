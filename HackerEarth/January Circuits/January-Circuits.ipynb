{
 "cells": [
  {
   "cell_type": "code",
   "execution_count": null,
   "metadata": {
    "collapsed": false
   },
   "outputs": [],
   "source": [
    "## Good String\n",
    "## Accepted :)\n",
    "\n",
    "def main():\n",
    "    S = raw_input()\n",
    "    l = len(S)\n",
    "    if 1 <= l <= 100000:\n",
    "        cs = set(S)\n",
    "        lcs = len(cs)\n",
    "        count = l - lcs\n",
    "        return count\n",
    "\n",
    "count = main()\n",
    "print count"
   ]
  },
  {
   "cell_type": "code",
   "execution_count": 21,
   "metadata": {
    "collapsed": false
   },
   "outputs": [
    {
     "name": "stdout",
     "output_type": "stream",
     "text": [
      "3 3\n",
      "1 2 3\n",
      "4 5 6\n",
      "7 8 9\n",
      "15\n"
     ]
    }
   ],
   "source": [
    "## Micro's House\n",
    "\n",
    "def main():\n",
    "    N, M = [int(i) for i in raw_input().split(' ')]\n",
    "    if N >= M and 1 <= N <= 10000 and 1 <= M <= 20:\n",
    "        rows = list()\n",
    "        xors = list()\n",
    "        for i in xrange(N):\n",
    "            rows.append([int(i) for i in raw_input().split(' ')])\n",
    "        for row in rows:\n",
    "            xors.append(reduce(lambda x, y: x^y, row))\n",
    "        for i in range(M):\n",
    "            r = [row[i] for row in rows]\n",
    "            xors.append(reduce(lambda x, y: x^y, r))\n",
    "        return max(xors)\n",
    "        \n",
    "\n",
    "response = main()\n",
    "print response"
   ]
  },
  {
   "cell_type": "code",
   "execution_count": 14,
   "metadata": {
    "collapsed": false
   },
   "outputs": [
    {
     "name": "stdout",
     "output_type": "stream",
     "text": [
      "3\n",
      "1 9\n",
      "1 2\n",
      "0\n"
     ]
    }
   ],
   "source": [
    "## Convoluted Operations\n",
    "        \n",
    "def main():\n",
    "    N = int(raw_input())\n",
    "    if 1 <= N <= 500000:\n",
    "        num_operations = 0\n",
    "        states = {}\n",
    "        output = []\n",
    "        stack = []\n",
    "        while num_operations < N:\n",
    "            elements = [int(i) for i in raw_input().split(' ')]\n",
    "\n",
    "            # taking input as type of operations\n",
    "            if len(elements) == 3:\n",
    "                typeofop, K, X = elements \n",
    "            elif len(elements) == 2:\n",
    "                typeofop, X = elements\n",
    "            else:\n",
    "                typeofop = elements[0]\n",
    "\n",
    "            # performing actions based on type of operations\n",
    "            if typeofop == 0:\n",
    "                stack.pop()\n",
    "                states[num_operations] = [i for i in stack]\n",
    "            elif typeofop == 1:\n",
    "                stack.append(X)\n",
    "                states[num_operations] = [i for i in stack]\n",
    "            else:\n",
    "                temp_stack = states.get(K-1, [])\n",
    "                if len(temp_stack) > 0:\n",
    "                    temp_stack.sort()\n",
    "                    index = 0\n",
    "                    for item in temp_stack:\n",
    "                        if item < X:\n",
    "                            index += 1\n",
    "                    output.append(index)\n",
    "\n",
    "            num_operations += 1\n",
    "        return output\n",
    "\n",
    "output = main()\n",
    "for out in output:\n",
    "    print out\n"
   ]
  },
  {
   "cell_type": "code",
   "execution_count": 22,
   "metadata": {
    "collapsed": false
   },
   "outputs": [
    {
     "data": {
      "text/plain": [
       "6"
      ]
     },
     "execution_count": 22,
     "metadata": {},
     "output_type": "execute_result"
    }
   ],
   "source": [
    "7^8^9"
   ]
  },
  {
   "cell_type": "code",
   "execution_count": null,
   "metadata": {
    "collapsed": true
   },
   "outputs": [],
   "source": []
  }
 ],
 "metadata": {
  "kernelspec": {
   "display_name": "Python 2",
   "language": "python",
   "name": "python2"
  },
  "language_info": {
   "codemirror_mode": {
    "name": "ipython",
    "version": 2
   },
   "file_extension": ".py",
   "mimetype": "text/x-python",
   "name": "python",
   "nbconvert_exporter": "python",
   "pygments_lexer": "ipython2",
   "version": "2.7.12"
  }
 },
 "nbformat": 4,
 "nbformat_minor": 0
}
