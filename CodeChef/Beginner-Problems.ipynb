{
 "cells": [
  {
   "cell_type": "code",
   "execution_count": null,
   "metadata": {
    "collapsed": false
   },
   "outputs": [],
   "source": [
    "## Life, Universe...\n",
    "\n",
    "def main():\n",
    "    take_input = True\n",
    "    output = []\n",
    "    while take_input:\n",
    "        N = int(raw_input())\n",
    "        if N == 42:\n",
    "            take_input = False\n",
    "            continue\n",
    "        output.append(N)\n",
    "    return output\n",
    "\n",
    "output = main()\n",
    "for response in output:\n",
    "    print response"
   ]
  },
  {
   "cell_type": "code",
   "execution_count": null,
   "metadata": {
    "collapsed": false
   },
   "outputs": [],
   "source": [
    "## ATM\n",
    "\n",
    "def main():\n",
    "    X, Y = [i for i in raw_input().strip().split(' ')]\n",
    "    X = int(X)\n",
    "    Y = float(Y)\n",
    "    if 0 < X <= 2000 and 0 <= Y <= 2000:\n",
    "        atm_charges = 0.50\n",
    "        if X % 5 > 0:\n",
    "            return format(Y, '.2f')\n",
    "        transaction_amount = X + atm_charges\n",
    "        if transaction_amount > Y:\n",
    "            return format(Y, '.2f')\n",
    "        left_amount = Y - transaction_amount\n",
    "        return format(left_amount, '.2f')\n",
    "\n",
    "print main()"
   ]
  },
  {
   "cell_type": "code",
   "execution_count": null,
   "metadata": {
    "collapsed": false
   },
   "outputs": [],
   "source": [
    "## Enormous Input Test\n",
    "\n",
    "def main():\n",
    "    n, k = [long(i) for i in raw_input().split(' ') if long(i) <= 10000000]\n",
    "    count = 0\n",
    "    for i in xrange(n):\n",
    "        num = long(raw_input())\n",
    "        if 1 <= num <= 1000000000:\n",
    "            if num % k == 0:\n",
    "                count += 1\n",
    "    return count\n",
    "\n",
    "print main()"
   ]
  },
  {
   "cell_type": "code",
   "execution_count": null,
   "metadata": {
    "collapsed": false
   },
   "outputs": [],
   "source": [
    "## factorial\n",
    "\n",
    "FACTS = {}\n",
    "\n",
    "def fact(n):\n",
    "    if n == 0:\n",
    "        return 1\n",
    "    FACTS[n] = n * fact(n - 1)\n",
    "    return FACTS[n]\n",
    "\n",
    "def main():\n",
    "    T = int(raw_input())\n",
    "    count = 0\n",
    "    if 1 <= T <= 100000:\n",
    "        output = []\n",
    "        facts = {}\n",
    "        while count < T:\n",
    "            N = long(raw_input())\n",
    "            factorial = fact(N)\n",
    "            tz  = '{}'.format(factorial)\n",
    "            tz = len(tz) - len(tz.rstrip('0'))\n",
    "            output.append(tz)\n",
    "#            output.append(factorial)\n",
    "            count += 1\n",
    "        return output\n",
    "\n",
    "output = main()\n",
    "for response in output:\n",
    "    print response"
   ]
  },
  {
   "cell_type": "code",
   "execution_count": null,
   "metadata": {
    "collapsed": false
   },
   "outputs": [],
   "source": [
    "## factorial\n",
    "\n",
    "FACTS = {}\n",
    "\n",
    "def fact(n):\n",
    "    if n == 0:\n",
    "        return 1\n",
    "    FACTS[n] = n * fact(n - 1)\n",
    "    return FACTS[n]\n",
    "\n",
    "def main():\n",
    "    T = int(raw_input())\n",
    "    count = 0\n",
    "    if 1 <= T <= 100000:\n",
    "        output = []\n",
    "        facts = {}\n",
    "        while count < T:\n",
    "            N = long(raw_input())\n",
    "            factorial = fact(N)\n",
    "            output.append(factorial)\n",
    "            count += 1\n",
    "        return output\n",
    "\n",
    "output = main()\n",
    "for response in output:\n",
    "    print response"
   ]
  },
  {
   "cell_type": "code",
   "execution_count": null,
   "metadata": {
    "collapsed": false
   },
   "outputs": [],
   "source": [
    "## Turbo Sort\n",
    "\n",
    "def sort_array(N):\n",
    "    N.sort()\n",
    "    return N\n",
    "\n",
    "def main():\n",
    "    T = int(raw_input())\n",
    "    count = 0\n",
    "    N = list()\n",
    "    if 1 <= T <= 1000000:\n",
    "        while count < T:\n",
    "            num = long(raw_input())\n",
    "            if 1 <= num <= 1000000:\n",
    "                N.append(num)\n",
    "            count += 1\n",
    "        return sort_array(N)\n",
    "\n",
    "N = main()\n",
    "for num in N:\n",
    "    print num"
   ]
  },
  {
   "cell_type": "code",
   "execution_count": null,
   "metadata": {
    "collapsed": false
   },
   "outputs": [],
   "source": [
    "## Add Two Numbers\n",
    "\n",
    "def main():\n",
    "    try:\n",
    "        T = int(raw_input())\n",
    "        count = 0\n",
    "        output = []\n",
    "        while count < T:\n",
    "            A, B = [int(i) for i in raw_input().strip().split(' ')]\n",
    "            output.append(A + B)\n",
    "            count += 1\n",
    "        return output\n",
    "    except Exception:\n",
    "        pass\n",
    "\n",
    "response = main()\n",
    "for r in response:\n",
    "    print r\n"
   ]
  },
  {
   "cell_type": "code",
   "execution_count": null,
   "metadata": {
    "collapsed": false
   },
   "outputs": [],
   "source": [
    "## Sum of Digits\n",
    "\n",
    "def count_digits(N):\n",
    "    if N == 0:\n",
    "        return N\n",
    "    return (N % 10) + count_digits(N / 10)\n",
    "\n",
    "def main():\n",
    "    T = int(raw_input())\n",
    "    if 1 <= T <= 1000:\n",
    "        count = 0\n",
    "        output = []\n",
    "        while count < T:\n",
    "            N = int(raw_input())\n",
    "            digits = count_digits(N)\n",
    "            output.append(digits)\n",
    "            count +=1\n",
    "        return output\n",
    "\n",
    "for response in main():\n",
    "    print response"
   ]
  },
  {
   "cell_type": "code",
   "execution_count": null,
   "metadata": {
    "collapsed": false
   },
   "outputs": [],
   "source": [
    "## Transform the Expression\n",
    "\n",
    "def search_operator(expr_list, start):\n",
    "    while start >= 0:\n",
    "        if expr_list[start] in ['*', '/', '+', '-']:\n",
    "            return start\n",
    "        start -= 1\n",
    "\n",
    "def transform(expr):\n",
    "    expr_list = list()\n",
    "    for char in expr:\n",
    "        expr_list.append(char)\n",
    "\n",
    "    for element in expr_list:\n",
    "        if element == ')':\n",
    "            index = search_operator(expr_list, expr_list.index(element))\n",
    "            temp = expr_list[index]\n",
    "            expr_list.remove(expr_list[index])\n",
    "            expr_list[expr_list.index(element)] = temp\n",
    "            print expr_list\n",
    "    return ''.join(expr_list)\n",
    "\n",
    "def main():\n",
    "    T = int(raw_input())\n",
    "    if 1 <= T < 100:\n",
    "        count = 0\n",
    "        output = []\n",
    "        while count < T:\n",
    "            expr = raw_input().strip()\n",
    "            if 1 <= len(expr) < 400:\n",
    "                transformed_expr = transform(expr)\n",
    "                output.append(transformed_expr)\n",
    "            count += 1\n",
    "        return output\n",
    "\n",
    "# for response in main():\n",
    "#     print response"
   ]
  },
  {
   "cell_type": "code",
   "execution_count": null,
   "metadata": {
    "collapsed": false
   },
   "outputs": [],
   "source": [
    "## Snape and Ladder\n",
    "\n",
    "import math\n",
    "\n",
    "def main():\n",
    "    T = int(raw_input())\n",
    "    count = 0\n",
    "    output = []\n",
    "    while count < T:\n",
    "        B, LS = [int(i) for i in raw_input().split(' ')]\n",
    "        rs_max = format(math.sqrt(B*B + LS*LS), '.5f')\n",
    "        rs_min = format(math.sqrt(LS*LS - B*B), '.5f')\n",
    "        output.append(' '.join(['{}'.format(rs_min), '{}'.format(rs_max)]))\n",
    "        count += 1\n",
    "    return output\n",
    "\n",
    "for response in main():\n",
    "    print response"
   ]
  },
  {
   "cell_type": "code",
   "execution_count": null,
   "metadata": {
    "collapsed": false
   },
   "outputs": [],
   "source": [
    "## Cutting Recipes\n",
    "\n",
    "def get_less_ingredients(ingredients):\n",
    "    lower = min(ingredients)\n",
    "    if all(map(lambda x: x % lower == 0, ingredients)):\n",
    "        return map(lambda x: '{}'.format(x / lower), ingredients)\n",
    "    else:\n",
    "        return -1\n",
    "    \n",
    "def main():\n",
    "    T = int(raw_input())\n",
    "    count = 0\n",
    "    output = []\n",
    "    while count < T:\n",
    "        ingredients = [int(i) for i in raw_input().split(' ')]\n",
    "        N = ingredients[0]\n",
    "        if N == 1:\n",
    "            output.append('{}'.format(ingredients / ingredients))\n",
    "        else:\n",
    "            ingredients = ingredients[1:]\n",
    "            try:\n",
    "                output.append(' '.join(get_less_ingredients(ingredients)))\n",
    "            except TypeError:\n",
    "                output.append(' '.join(['{}'.format(i) for i in ingredients]))\n",
    "        count += 1\n",
    "    return output\n",
    "\n",
    "for response in main():\n",
    "    print response"
   ]
  },
  {
   "cell_type": "code",
   "execution_count": null,
   "metadata": {
    "collapsed": false
   },
   "outputs": [],
   "source": [
    "## Find Remainder\n",
    "\n",
    "def main():\n",
    "    T = int(raw_input())\n",
    "    count = 0\n",
    "    output = []\n",
    "    while count < T:\n",
    "        A, B = [int(i) for i in raw_input().split(' ')]\n",
    "        output.append(A % B)\n",
    "        count += 1\n",
    "    return output\n",
    "\n",
    "for response in main():\n",
    "    print response"
   ]
  },
  {
   "cell_type": "code",
   "execution_count": null,
   "metadata": {
    "collapsed": false
   },
   "outputs": [],
   "source": [
    "## Lucky Four\n",
    "\n",
    "def main():\n",
    "    T = int(raw_input())\n",
    "    count = 0\n",
    "    output = []\n",
    "    while count < T:\n",
    "        N = raw_input()\n",
    "        output.append(N.count('4'))\n",
    "        count += 1\n",
    "    return output\n",
    "\n",
    "for response in main():\n",
    "    print response"
   ]
  },
  {
   "cell_type": "code",
   "execution_count": null,
   "metadata": {
    "collapsed": false
   },
   "outputs": [],
   "source": [
    "## Number Mirror \n",
    "\n",
    "def main():\n",
    "    return raw_input()\n",
    "\n",
    "print main()"
   ]
  },
  {
   "cell_type": "code",
   "execution_count": null,
   "metadata": {
    "collapsed": false
   },
   "outputs": [],
   "source": [
    "## First and Last Digit\n",
    "\n",
    "def main():\n",
    "    T = int(raw_input())\n",
    "    count = 0\n",
    "    output = []\n",
    "    while count < T:\n",
    "        N = raw_input()\n",
    "        l = len(N)\n",
    "        output.append(int(N[0]) + int(N[l - 1]))\n",
    "        count += 1\n",
    "    return output\n",
    "\n",
    "for response in main():\n",
    "    print response\n"
   ]
  },
  {
   "cell_type": "code",
   "execution_count": null,
   "metadata": {
    "collapsed": false
   },
   "outputs": [],
   "source": [
    "## Reverse The Number\n",
    "\n",
    "def main():\n",
    "    T = int(raw_input())\n",
    "    count = 0\n",
    "    output = []\n",
    "    while count < T:\n",
    "        N = raw_input()\n",
    "        output.append(N[::-1])\n",
    "        count += 1\n",
    "    return output\n",
    "\n",
    "for response in main():\n",
    "    print response"
   ]
  },
  {
   "cell_type": "code",
   "execution_count": null,
   "metadata": {
    "collapsed": false
   },
   "outputs": [],
   "source": [
    "## Finding Square Roots\n",
    "\n",
    "import math\n",
    "\n",
    "def main():\n",
    "    T = int(raw_input())\n",
    "    count = 0\n",
    "    output = []\n",
    "    while count < T:\n",
    "        N = int(raw_input())\n",
    "        output.append(int(math.sqrt(N)))\n",
    "        count += 1\n",
    "    return output\n",
    "\n",
    "for response in main():\n",
    "    print response"
   ]
  },
  {
   "cell_type": "code",
   "execution_count": null,
   "metadata": {
    "collapsed": false
   },
   "outputs": [],
   "source": [
    "## Second Largest\n",
    "\n",
    "def main():\n",
    "    T = int(raw_input())\n",
    "    count = 0\n",
    "    output = []\n",
    "    while count < T:\n",
    "        N = [int(i) for i in raw_input().split(' ')]\n",
    "        N.sort()\n",
    "        output.append(N[1])\n",
    "        count += 1\n",
    "    return output\n",
    "\n",
    "for response in main():\n",
    "    print response\n"
   ]
  },
  {
   "cell_type": "code",
   "execution_count": null,
   "metadata": {
    "collapsed": false
   },
   "outputs": [],
   "source": [
    "## Servant\n",
    "\n",
    "def main():\n",
    "    T = int(raw_input())\n",
    "    count = 0\n",
    "    output = []\n",
    "    while count < T:\n",
    "        N = int(raw_input())\n",
    "        if -20 <= N <= 20:\n",
    "            if N < 10:\n",
    "                output.append('What an obedient servant you are!')\n",
    "            else:\n",
    "                output.append(-1)\n",
    "        count += 1\n",
    "    return output\n",
    "\n",
    "for response in main():\n",
    "    print response"
   ]
  },
  {
   "cell_type": "code",
   "execution_count": 2,
   "metadata": {
    "collapsed": false
   },
   "outputs": [
    {
     "name": "stdout",
     "output_type": "stream",
     "text": [
      "1\n",
      "4\n",
      "5 1 3 2\n",
      "3\n"
     ]
    }
   ],
   "source": [
    "## The Smallest Pair\n",
    "\n",
    "def main():\n",
    "    T = int(raw_input())\n",
    "    count = 0\n",
    "    output = []\n",
    "    while count < T:\n",
    "        N = int(raw_input())\n",
    "        A = [int(i) for i in raw_input().split(' ')]\n",
    "        A.sort()\n",
    "        output.append(A[0] + A[1])\n",
    "        count += 1\n",
    "    return output\n",
    "\n",
    "for response in main():\n",
    "    print response"
   ]
  },
  {
   "cell_type": "code",
   "execution_count": 14,
   "metadata": {
    "collapsed": false
   },
   "outputs": [
    {
     "name": "stdout",
     "output_type": "stream",
     "text": [
      "1\n",
      "5\n",
      "NNNYY\n",
      "NOT INDIAN\n"
     ]
    }
   ],
   "source": [
    "## Tanu and Head-bob\n",
    "\n",
    "def main():\n",
    "    T = int(raw_input())\n",
    "    count = 0\n",
    "    output = []\n",
    "    while count < T:\n",
    "        N = int(raw_input())\n",
    "        gestures = raw_input()\n",
    "        if 'I' in gestures:\n",
    "            output.append('INDIAN')\n",
    "        else:\n",
    "            if 'Y' in gestures:\n",
    "                output.append('NOT INDIAN')\n",
    "            else:\n",
    "                output.append('NOT SURE')\n",
    "        count += 1\n",
    "    return output\n",
    "\n",
    "for response in main():\n",
    "    print response"
   ]
  },
  {
   "cell_type": "code",
   "execution_count": 17,
   "metadata": {
    "collapsed": false
   },
   "outputs": [
    {
     "name": "stdout",
     "output_type": "stream",
     "text": [
      "1\n",
      "180 0 0\n",
      "NO\n"
     ]
    }
   ],
   "source": [
    "## Valid Triangles\n",
    "\n",
    "def main():\n",
    "    T = int(raw_input())\n",
    "    count = 0\n",
    "    output = []\n",
    "    while count < T:\n",
    "        try:\n",
    "            A, B, C = [int(i) for i in raw_input().split(' ') if 0 < int(i) < 180]\n",
    "        except ValueError:\n",
    "            output.append('NO')\n",
    "        else:\n",
    "            if A + B + C == 180:\n",
    "                output.append('YES')\n",
    "            else:\n",
    "                output.append('NO')\n",
    "        count += 1\n",
    "    return output\n",
    "\n",
    "\n",
    "for response in main():\n",
    "    print response"
   ]
  },
  {
   "cell_type": "code",
   "execution_count": 30,
   "metadata": {
    "collapsed": false
   },
   "outputs": [
    {
     "name": "stdout",
     "output_type": "stream",
     "text": [
      "1\n",
      "13\n",
      "yes\n"
     ]
    }
   ],
   "source": [
    "## Primality Test\n",
    "\n",
    "import math\n",
    "\n",
    "def primality_test(N):\n",
    "    t = int(math.sqrt(N))\n",
    "    i = 2\n",
    "    while i <= t:\n",
    "        if N % i == 0:\n",
    "            break\n",
    "        i += 1\n",
    "    else:\n",
    "        return 'yes'\n",
    "    return 'no'\n",
    "\n",
    "def main():\n",
    "    T = int(raw_input())\n",
    "    count = 0\n",
    "    output = []\n",
    "    while count < T:\n",
    "        N = int(raw_input())\n",
    "        is_prime = primality_test(N)\n",
    "        output.append(is_prime)\n",
    "        count += 1\n",
    "    return output\n",
    "\n",
    "for response in main():\n",
    "    print response"
   ]
  },
  {
   "cell_type": "code",
   "execution_count": 25,
   "metadata": {
    "collapsed": false
   },
   "outputs": [
    {
     "data": {
      "text/plain": [
       "4.47213595499958"
      ]
     },
     "execution_count": 25,
     "metadata": {},
     "output_type": "execute_result"
    }
   ],
   "source": []
  },
  {
   "cell_type": "code",
   "execution_count": null,
   "metadata": {
    "collapsed": true
   },
   "outputs": [],
   "source": []
  }
 ],
 "metadata": {
  "kernelspec": {
   "display_name": "Python 2",
   "language": "python",
   "name": "python2"
  },
  "language_info": {
   "codemirror_mode": {
    "name": "ipython",
    "version": 2
   },
   "file_extension": ".py",
   "mimetype": "text/x-python",
   "name": "python",
   "nbconvert_exporter": "python",
   "pygments_lexer": "ipython2",
   "version": "2.7.12"
  }
 },
 "nbformat": 4,
 "nbformat_minor": 0
}
